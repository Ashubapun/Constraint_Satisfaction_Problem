{
  "nbformat": 4,
  "nbformat_minor": 0,
  "metadata": {
    "colab": {
      "provenance": [],
      "authorship_tag": "ABX9TyP1CBTM6OHsddwDzNjSk8RT",
      "include_colab_link": true
    },
    "kernelspec": {
      "name": "python3",
      "display_name": "Python 3"
    },
    "language_info": {
      "name": "python"
    }
  },
  "cells": [
    {
      "cell_type": "markdown",
      "metadata": {
        "id": "view-in-github",
        "colab_type": "text"
      },
      "source": [
        "<a href=\"https://colab.research.google.com/github/Ashubapun/Constraint_Satisfaction_Problem/blob/main/CSP_Constraint_Satisfaction_Problem_.ipynb\" target=\"_parent\"><img src=\"https://colab.research.google.com/assets/colab-badge.svg\" alt=\"Open In Colab\"/></a>"
      ]
    },
    {
      "cell_type": "code",
      "execution_count": null,
      "metadata": {
        "colab": {
          "base_uri": "https://localhost:8080/"
        },
        "id": "f6jSHBx35T9j",
        "outputId": "c14ea398-08d8-448c-fd7b-3c034d8a189a"
      },
      "outputs": [
        {
          "output_type": "stream",
          "name": "stdout",
          "text": [
            "Looking in indexes: https://pypi.org/simple, https://us-python.pkg.dev/colab-wheels/public/simple/\n",
            "Requirement already satisfied: python-constraint in /usr/local/lib/python3.10/dist-packages (1.4.0)\n",
            "(x,y) ∈ {(3,9),(3,8),(3,7),(3,6),(3,5),(3,4),(3,3),(3,2),(2,9),(2,8),(2,7),(2,6),(2,5),(2,4),(2,3),(1,9),(1,8),(1,7),(1,6),(1,5),(1,4)}\n"
          ]
        }
      ],
      "source": [
        "!pip install python-constraint\n",
        "import constraint\n",
        "\n",
        "problem = constraint.Problem()\n",
        "\n",
        "problem.addVariable('x', [1,2,3])\n",
        "problem.addVariable('y', range(10))\n",
        "\n",
        "def our_constraint(x, y):\n",
        "    if x + y >= 5:\n",
        "        return True\n",
        "\n",
        "problem.addConstraint(our_constraint, ['x','y'])\n",
        "\n",
        "solutions = problem.getSolutions()\n",
        "\n",
        "length = len(solutions)\n",
        "print(\"(x,y) ∈ {\", end=\"\")\n",
        "for index, solution in enumerate(solutions):\n",
        "    if index == length - 1:\n",
        "        print(\"({},{})\".format(solution['x'], solution['y']), end=\"\")\n",
        "    else:\n",
        "        print(\"({},{}),\".format(solution['x'], solution['y']), end=\"\")\n",
        "print(\"}\")\n"
      ]
    },
    {
      "cell_type": "code",
      "source": [],
      "metadata": {
        "id": "OuM2TXJD6URB"
      },
      "execution_count": null,
      "outputs": []
    }
  ]
}